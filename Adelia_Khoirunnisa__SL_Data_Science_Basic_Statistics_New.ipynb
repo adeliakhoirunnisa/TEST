{
  "cells": [
    {
      "cell_type": "markdown",
      "metadata": {
        "id": "view-in-github",
        "colab_type": "text"
      },
      "source": [
        "<a href=\"https://colab.research.google.com/github/adeliakhoirunnisa/TEST/blob/main/Adelia_Khoirunnisa__SL_Data_Science_Basic_Statistics_New.ipynb\" target=\"_parent\"><img src=\"https://colab.research.google.com/assets/colab-badge.svg\" alt=\"Open In Colab\"/></a>"
      ]
    },
    {
      "cell_type": "markdown",
      "source": [
        "## **REMINDER** \n",
        "Sebelum memulai pembelajaran self-learning jangan lupa berdoa ya teman-teman dan perhatikan:\n",
        "1. Jika menggunakan Jupyter Notebook, silahkan pilih \"File\" --> \"Download\" --> \"Download .ipynb\"\n",
        "2. Jika menggunakan Colab, silahkan pilih \"File\" --> \"Save a copy in drive\""
      ],
      "metadata": {
        "id": "OBuHR6CmQTQr"
      }
    },
    {
      "cell_type": "markdown",
      "metadata": {
        "id": "YSRdLrBmDbBq"
      },
      "source": [
        "#**MODUL 1. BASIC STATISTICS**"
      ]
    },
    {
      "cell_type": "markdown",
      "metadata": {
        "id": "BeelyBazDbBw"
      },
      "source": [
        "## Tentang Libraries untuk Statistics\n",
        "#### Pada modul ini akan ditampilkan beberapa library yang digunakan dalam statistik dasar beserta beberapa contoh perhitungannya.\n",
        "***"
      ]
    },
    {
      "cell_type": "markdown",
      "metadata": {
        "id": "7dACVUNiDbBx"
      },
      "source": [
        "####**NUMPY**\n",
        "NumPy adalah library Python yang merupakan singkatan dari \"Numerical Python\". Library ini biasanya digunakan untuk array. Di Python, terdapat list yang dapat dimanfaatkan untuk penggunaan array, tetapi prosesnya agak lambat. NumPy bertujuan untuk menyediakan objek array yang bekerja lebih cepat dibandingkan dengan list pada Python tradisional."
      ]
    },
    {
      "cell_type": "markdown",
      "metadata": {
        "id": "51YB1KPPDbBy"
      },
      "source": [
        "####**SCIPY**\n",
        "SciPy juga merupakan library Python yang free dan bersifat open-source. Library ini digunakan untuk scientific computing dan technical computing. SciPy berisi modul untuk optimasi, aljabar linier, integrasi, interpolasi, fungsi-fungsi khusus, FFT, signal dan image processing, ODE solvers dan tugas umum lainnya dalam science dan engineering."
      ]
    },
    {
      "cell_type": "code",
      "execution_count": null,
      "metadata": {
        "id": "6FF7jwg5DbBy",
        "colab": {
          "base_uri": "https://localhost:8080/"
        },
        "outputId": "47b9f0d2-152a-40d9-9853-57fb226d4fb4"
      },
      "outputs": [
        {
          "output_type": "stream",
          "name": "stdout",
          "text": [
            "Looking in indexes: https://pypi.org/simple, https://us-python.pkg.dev/colab-wheels/public/simple/\n",
            "Requirement already satisfied: numpy in /usr/local/lib/python3.7/dist-packages (1.21.6)\n",
            "Looking in indexes: https://pypi.org/simple, https://us-python.pkg.dev/colab-wheels/public/simple/\n",
            "Requirement already satisfied: scipy in /usr/local/lib/python3.7/dist-packages (1.7.3)\n",
            "Requirement already satisfied: numpy<1.23.0,>=1.16.5 in /usr/local/lib/python3.7/dist-packages (from scipy) (1.21.6)\n"
          ]
        }
      ],
      "source": [
        "#Sistem impor Kode Python dalam satu modul mendapatkan akses ke kode di modul lain dengan proses mengimpornya.\n",
        "import sys\n",
        "\n",
        "# run cell ini untuk menginstall numpy\n",
        "!{sys.executable} -m pip install numpy\n",
        "\n",
        "# run cell ini menginstall scipy\n",
        "!{sys.executable} -m pip install scipy"
      ]
    },
    {
      "cell_type": "markdown",
      "metadata": {
        "id": "4ZFYlSlhDbB1"
      },
      "source": [
        "# **STATISTIK DESKRIPTIF**\n",
        "# Objectif\n",
        "***\n",
        "- **Ukuran Tendensi Sentral**\n",
        "     - Mean\n",
        "     - Median\n",
        "     - Mode\n",
        "\n",
        "- **Ukuran Penyebaran**\n",
        "\n",
        "     - Range\n",
        "     - Quartiles and Interquartile range\n",
        "     - Percentile\n",
        "     - Variance\n",
        "     - Standard deviation\n",
        "\n",
        "\n",
        "- **Correlation v/s Causation**\n",
        "- **Kurtosis**\n",
        "- **Skewness**\n",
        "- **Eigen Vectors**\n",
        "\n",
        "     "
      ]
    },
    {
      "cell_type": "markdown",
      "source": [
        "#### Membuat array sederhana dengan Numpy"
      ],
      "metadata": {
        "id": "bbFvGYrGKT6M"
      }
    },
    {
      "cell_type": "code",
      "execution_count": null,
      "metadata": {
        "id": "okRzYYSADbB2"
      },
      "outputs": [],
      "source": [
        "import numpy as np\n",
        "\n",
        "# Membuat basic array di Numpy\n",
        "X=np.array([1,2,3,5,5])"
      ]
    },
    {
      "cell_type": "markdown",
      "metadata": {
        "id": "bw3pz9cLDbB4"
      },
      "source": [
        "## Ukuran Tendensi Sentral\n",
        "***\n",
        "\n",
        "Ukuran tendensi sentral adalah metode yang umum digunakan untuk mengidentifikasi pusat kumpulan data.\n",
        "Digunakan untuk menggambarkan kumpulan data dengan mengidentifikasi posisi sentral dalam kumpulan data tersebut.\n",
        "\n",
        "Mean, Median, dan Mode"
      ]
    },
    {
      "cell_type": "markdown",
      "metadata": {
        "id": "J3xws0GWDbB5"
      },
      "source": [
        "### MEAN (Rata-rata)\n",
        "***\n",
        "Ukuran tendensi sentral yang paling populer. Mean disebut sebagai nilai rata-rata dalam kumpulan data. ​Didefinisikan juga sebagai jumlah semua nilai dalam kumpulan data, dibagi dengan jumlah total nilai dalam kumpulan data.\n",
        "Secara matematis dapat dituliskan sebagai berikut: $ \\bar X= \\frac{\\sum X}{n}$"
      ]
    },
    {
      "cell_type": "code",
      "execution_count": null,
      "metadata": {
        "id": "UQOvK_GqDbB6",
        "colab": {
          "base_uri": "https://localhost:8080/"
        },
        "outputId": "91b9c859-e007-43c6-f3a0-cb839abaca7e"
      },
      "outputs": [
        {
          "output_type": "stream",
          "name": "stdout",
          "text": [
            "Data [1 2 3 5 5]\n",
            "Mean: 3.2\n"
          ]
        }
      ],
      "source": [
        "# Mean menggunakan Numpy\n",
        "print(\"Data\",X)\n",
        "print(\"Mean:\",np.mean(X))"
      ]
    },
    {
      "cell_type": "markdown",
      "metadata": {
        "id": "l1pbQjzODbB6"
      },
      "source": [
        "### MEDIAN\n",
        "***\n",
        "Median adalah nilai tengah dari kumpulan data yang diurutkan. Jika diberikan total n nilai. Maka mediannya adalah:\n",
        "\n",
        "1.$ \\frac {(n+1)}{2} $ untuk n bernilai ganjil.\n",
        "\n",
        "\n",
        "2.($\\frac{n}{2}$) dan ($\\frac{n}{2}+1$) untuk n bernilai genap."
      ]
    },
    {
      "cell_type": "code",
      "execution_count": null,
      "metadata": {
        "id": "z52LQp7IDbB7",
        "colab": {
          "base_uri": "https://localhost:8080/"
        },
        "outputId": "8c88f61a-b815-4b97-8afe-c821a8ba3999"
      },
      "outputs": [
        {
          "output_type": "stream",
          "name": "stdout",
          "text": [
            "Data [1 2 3 5 5]\n",
            "Median 3.0\n"
          ]
        }
      ],
      "source": [
        "# Mencari Median dari X\n",
        "print(\"Data\",X)\n",
        "print(\"Median\",np.median(X))"
      ]
    },
    {
      "cell_type": "markdown",
      "metadata": {
        "id": "Lyirwnq1DbB7"
      },
      "source": [
        "### MODE (Modus)\n",
        "***\n",
        "\n",
        "1. Nilai yang paling sering muncul dalam kumpulan data, yaitu nilai sampel acak yang muncul dengan frekuensi terbesar.\n",
        "2. Hal ini berlaku untuk semua tingkat pengukuran data, yaitu skala nominal, ordinal, interval dan rasio."
      ]
    },
    {
      "cell_type": "code",
      "execution_count": null,
      "metadata": {
        "id": "-Zl2ISS5DbB7",
        "colab": {
          "base_uri": "https://localhost:8080/"
        },
        "outputId": "7ad3115f-4e82-48e9-c573-0ce5c4c2ae78"
      },
      "outputs": [
        {
          "output_type": "stream",
          "name": "stdout",
          "text": [
            "Data [1 2 3 5 5]\n",
            "Mode: 5\n",
            "Mode: ModeResult(mode=array([5]), count=array([2]))\n"
          ]
        }
      ],
      "source": [
        "# Mencari Modus menggunakan numpy\n",
        "print(\"Data\",X)\n",
        "vals,counts = np.unique(X, return_counts=True)\n",
        "index = np.argmax(counts)\n",
        "print(\"Mode:\",vals[index])\n",
        "\n",
        "\n",
        "# Mencari Modus menggunakan Scipy\n",
        "\n",
        "from scipy import stats\n",
        "print(\"Mode:\",stats.mode(X))"
      ]
    },
    {
      "cell_type": "markdown",
      "metadata": {
        "id": "uw1oEIcpDbB8"
      },
      "source": [
        "## Ukuran Penyebaran\n",
        "***\n",
        "\n",
        "Ukuran bagaimana data tersebar atau tersebar di sekitar rata-rata, yaitu rata- rata. Biasanya  digunakan untuk data kuantitatif, karena variabel dapat diatur dalam urutan logis dengan nilai rendah dan tinggi.\n",
        "\n",
        "Penyebaran dapat diukur menggunakan:\n",
        "1.  Range \n",
        "2.  Quartiles dan Interquartile range \n",
        "3.  Percentile\n",
        "4.  Variance \n",
        "5.  Standard deviation"
      ]
    },
    {
      "cell_type": "markdown",
      "metadata": {
        "id": "xKsOaGTvDbB8"
      },
      "source": [
        "### RANGE\n",
        "***\n",
        "1. Ini adalah ukuran variabilitas yang paling sederhana.\n",
        "2. Jarak antara nilai terkecil dan nilai terbesar dalam sebuah dataset.\n",
        "\n",
        "$ Range= \\max(X)-\\min(X)$"
      ]
    },
    {
      "cell_type": "code",
      "execution_count": null,
      "metadata": {
        "id": "V3CzN00CDbB9",
        "colab": {
          "base_uri": "https://localhost:8080/"
        },
        "outputId": "274a8dcd-a8a8-45b6-8527-dba7275bb159"
      },
      "outputs": [
        {
          "output_type": "stream",
          "name": "stdout",
          "text": [
            "Data  [1 2 3 5 5]\n",
            "Range  4\n"
          ]
        }
      ],
      "source": [
        "# Menghitung Range\n",
        "print(\"Data \",X)\n",
        "print(\"Range \",X.max()-X.min())"
      ]
    },
    {
      "cell_type": "markdown",
      "metadata": {
        "id": "xgDK5vvRDbB9"
      },
      "source": [
        "### QUARTILES AND IQR (Interquartile Range)\n",
        "***\n",
        "\n",
        "1. Q1 adalah nilai \"tengah\" di paruh pertama kumpulan data yang diurutkan berdasarkan peringkat.\n",
        "2. Q2 adalah nilai median dalam himpunan.\n",
        "3. Q3 adalah nilai \"tengah\" di paruh kedua dari kumpulan data yang diurutkan berdasarkan peringkat.\n",
        "4. Rentang interkuartil dihitung sebagai: Kuartil Atas – Kuartil Bawah."
      ]
    },
    {
      "cell_type": "code",
      "execution_count": null,
      "metadata": {
        "id": "FEhwP7l3DbB9",
        "colab": {
          "base_uri": "https://localhost:8080/"
        },
        "outputId": "541ec565-dc21-41f4-982e-c9c7fb5664ea"
      },
      "outputs": [
        {
          "output_type": "stream",
          "name": "stdout",
          "text": [
            "Data [ 1  3  4  5  5  6  7 11]\n",
            "\n",
            "Quartile 1: 3.5\n",
            "Quartile 2: 5.0\n",
            "Quartile 3: 6.5\n",
            "\n",
            "Interquartile Range 3.0\n"
          ]
        }
      ],
      "source": [
        "# Mendefinisikan Data\n",
        "data1=np.array([1, 3, 4, 5, 5, 6, 7, 11])\n",
        "print(\"Data\",data1)\n",
        "\n",
        "# Quartile pertama (Q1)\n",
        "Q1 = np.quantile(data1, .25, interpolation = 'midpoint')\n",
        "print(\"\\nQuartile 1:\",Q1)\n",
        " \n",
        "# Quartile kedua (Q2)\n",
        "Q2 = np.quantile(data1, .50, interpolation = 'midpoint')\n",
        "print(\"Quartile 2:\",Q2)\n",
        "\n",
        "# Quartile ketiga (Q3)\n",
        "Q3 = np.quantile(data1, .75, interpolation = 'midpoint')\n",
        "print(\"Quartile 3:\",Q3)\n",
        "\n",
        "# Rentang interQuartile(IQR)\n",
        "IQR = Q3 - Q1\n",
        "print(\"\\nInterquartile Range\",IQR)"
      ]
    },
    {
      "cell_type": "markdown",
      "metadata": {
        "id": "xmBGpaCiDbB-"
      },
      "source": [
        "### PERCENTILES\n",
        "***\n",
        "\n",
        "Persentiles biasanya menunjukkan bahwa persentase tertentu berada di bawah persentil itu. Misalnya, jika Anda mendapat skor di persentil ke-25, maka 25% peserta tes berada di bawah skor Anda. \"25\" disebut peringkat persentil."
      ]
    },
    {
      "cell_type": "code",
      "execution_count": null,
      "metadata": {
        "id": "E0h7JB3IDbB-",
        "colab": {
          "base_uri": "https://localhost:8080/"
        },
        "outputId": "ccf13cee-31bc-40c2-8fe5-160ecfb0b2bd"
      },
      "outputs": [
        {
          "output_type": "stream",
          "name": "stdout",
          "text": [
            "Data [ 1  3  4  5  5  6  7 11]\n",
            "25th Percentile: 3.75\n"
          ]
        }
      ],
      "source": [
        "print(\"Data\",data1)\n",
        "percentile_25 = np.percentile(data1,25)\n",
        "print(\"25th Percentile:\",round(percentile_25,2))"
      ]
    },
    {
      "cell_type": "markdown",
      "metadata": {
        "id": "YcFdV7I8DbB-"
      },
      "source": [
        "### VARIANCE AND STANDARD DEVIATION\n",
        "***\n",
        "Varians adalah ukuran seberapa tersebarnya suatu kumpulan data. Rumus varian adalah-\n",
        "\n",
        "$\\sigma^2 = \\frac{\\sum (X_{i}-\\bar X)^2}{n-1}$\n",
        "\n",
        "Standar Deviasi adalah akar kuadrat dari varians. Dilambangkan dengan huruf Yunani sigma $\\sigma$."
      ]
    },
    {
      "cell_type": "code",
      "execution_count": null,
      "metadata": {
        "id": "CJEXumYeDbB-",
        "colab": {
          "base_uri": "https://localhost:8080/"
        },
        "outputId": "533e082f-e724-4591-d83f-305c634ac936"
      },
      "outputs": [
        {
          "output_type": "stream",
          "name": "stdout",
          "text": [
            "Data [ 1  3  4  5  5  6  7 11]\n",
            "Variance: 8.785714285714286\n",
            "Standard Deviation: 2.9640705601780613\n"
          ]
        }
      ],
      "source": [
        "print(\"Data\",data1)\n",
        "\n",
        "'''\n",
        "    \"Delta Degrees of Freedom\": pembagi yang digunakan dalam perhitungan adalah\n",
        "    ``N - ddof``, di mana ``N`` mewakili jumlah elemen. Oleh\n",
        "    default `ddof` adalah nol.\n",
        "'''\n",
        "print(\"Variance:\",np.var(data1,ddof=1))\n",
        "print(\"Standard Deviation:\",np.std(data1,ddof=1))"
      ]
    },
    {
      "cell_type": "markdown",
      "metadata": {
        "id": "1Cflujj1DbB_"
      },
      "source": [
        "\n",
        "## COVARIANCE AND CORRELATION\n",
        "***"
      ]
    },
    {
      "cell_type": "markdown",
      "metadata": {
        "id": "imXdSc7BDbB_"
      },
      "source": [
        "### COVARIANCE\n",
        "1. Covariance adalah teknik statistik yang digunakan untuk menentukan hubungan antara pergerakan dua variabel acak. Singkatnya, berapa banyak dua variabel acak berubah bersama-sama.\n",
        "\n",
        "2. Memberikan ukuran kekuatan korelasi antara dua atau lebih set variabel acak.\n",
        "\n",
        "3. Contoh: Misalkan E(x) adalah nilai harapan dari suatu variabel x, dan E(y) adalah nilai harapan dari variabel y, maka kovarians antara x dan y diberikan oleh:\n",
        "\n",
        "$cov(x, y) = E[xy] − E[x] E[y]$\n",
        "\n",
        "- Jika COV(x, y) = 0 maka variabel tidak berkorelasi\n",
        "- Jika COV(x, y) > 0 maka variabel berkorelasi positif\n",
        "- Jika COV(x, y) < 0 maka variabel berkorelasi negatif"
      ]
    },
    {
      "cell_type": "code",
      "execution_count": null,
      "metadata": {
        "id": "q9Tv1Iz5DbB_",
        "colab": {
          "base_uri": "https://localhost:8080/"
        },
        "outputId": "ff6413ca-7b20-4c97-a2c2-f04b99c3d769"
      },
      "outputs": [
        {
          "output_type": "stream",
          "name": "stdout",
          "text": [
            "[1 2 3 4 5 6 7 8 9]\n",
            "[9 8 7 6 5 4 3 2 1]\n",
            "\n",
            "Covariance  -7.5\n"
          ]
        }
      ],
      "source": [
        "x = np.array([1,2,3,4,5,6,7,8,9])\n",
        "print(x)\n",
        "y = np.array([9,8,7,6,5,4,3,2,1])\n",
        "print(y)\n",
        "\n",
        "print(\"\\nCovariance \",np.cov(x,y)[0,1])"
      ]
    },
    {
      "cell_type": "markdown",
      "metadata": {
        "id": "U_4biw1gDbB_"
      },
      "source": [
        "### CORRELATION\n",
        "***\n",
        "\n",
        "1. Merupakan ukuran kekuatan hubungan antara dua variabel. Jadi, seberapa kuat dua variabel yang terhubung didefinisikan sebagai korelasi.\n",
        "\n",
        "2. Korelasi bergantung pada dua variabelnya, dimana perubahan dalam satu variabel mempengaruhi perubahan variabel kedua.\n",
        "3. Nilainya terletak pada kisaran -1 dan +1.\n",
        "4. Terkait dengan kovarians dimana rumusnya adalah: $r= cov(x,y)/\\sigma_x \\sigma_y$, dimana r adalah koefisien korelasi Pearson.\n",
        "- Koefisien korelasi yang lebih besar dari nol menunjukkan hubungan yang positif sedangkan nilai yang lebih kecil dari nol menunjukkan hubungan yang negatif.\n",
        "- Nilai nol menunjukkan tidak ada hubungan antara dua variabel yang dibandingkan."
      ]
    },
    {
      "cell_type": "code",
      "execution_count": null,
      "metadata": {
        "id": "zGDPNZy8DbB_",
        "colab": {
          "base_uri": "https://localhost:8080/"
        },
        "outputId": "8ce683ab-b166-4ccc-b15d-f81e1759286f"
      },
      "outputs": [
        {
          "output_type": "stream",
          "name": "stdout",
          "text": [
            "[[ 1. -1.]\n",
            " [-1.  1.]]\n"
          ]
        }
      ],
      "source": [
        "# Nilai matriks koefisien korelasi\n",
        "print(np.corrcoef(x,y))"
      ]
    },
    {
      "cell_type": "markdown",
      "metadata": {
        "id": "JVxmLlfyDbCA"
      },
      "source": [
        "### KURTOSIS\n",
        "***\n",
        "\n",
        "1. Mengukur seberapa tinggi dan tajam puncak pusat, relatif terhadap kurva lonceng standar.\n",
        "2. Juga disebut sebagai ukuran keberpihakan dari suatu distribusi data."
      ]
    },
    {
      "cell_type": "code",
      "execution_count": null,
      "metadata": {
        "id": "Rb5AQ9-YDbCA",
        "colab": {
          "base_uri": "https://localhost:8080/"
        },
        "outputId": "d0155dd2-b7a0-4347-80da-5d0ff9317ed9"
      },
      "outputs": [
        {
          "output_type": "stream",
          "name": "stdout",
          "text": [
            "Kurtosis -1.2002400240024003\n"
          ]
        }
      ],
      "source": [
        "data2=np.linspace(-5,5,100)\n",
        "print(\"Kurtosis\",stats.kurtosis(data2))"
      ]
    },
    {
      "cell_type": "markdown",
      "metadata": {
        "id": "O8mgKZ4ODbCA"
      },
      "source": [
        "### SKEWNESS\n",
        "***\n",
        "Besarnya dan arah kemiringan dalam distribusi data, yaitu penyimpangan dari simetri horizontal. Berikut ini adalah contoh menemukan skewness."
      ]
    },
    {
      "cell_type": "code",
      "execution_count": null,
      "metadata": {
        "scrolled": true,
        "id": "5rz36m6FDbCA",
        "colab": {
          "base_uri": "https://localhost:8080/",
          "height": 282
        },
        "outputId": "0fe9144f-e257-4d7b-aa92-d95cb32156e3"
      },
      "outputs": [
        {
          "output_type": "display_data",
          "data": {
            "text/plain": [
              "<IPython.core.display.HTML object>"
            ],
            "text/html": [
              "<script>\n",
              "code_show=true; \n",
              "function code_toggle() {\n",
              "    if (code_show){\n",
              "        $('div.cell.code_cell.rendered.selected div.input').hide();\n",
              "    } else {\n",
              "        $('div.cell.code_cell.rendered.selected div.input').show();\n",
              "    }\n",
              "    code_show = !code_show\n",
              "} \n",
              "$( document ).ready(code_toggle);\n",
              "</script>\n",
              "To show/hide this cell's raw code input, click <a href=\"javascript:code_toggle()\">here</a>."
            ]
          },
          "metadata": {}
        },
        {
          "output_type": "display_data",
          "data": {
            "text/plain": [
              "<Figure size 432x288 with 1 Axes>"
            ],
            "image/png": "[encoded data removed]"
          },
          "metadata": {
            "needs_background": "light"
          }
        }
      ],
      "source": [
        "from IPython.display import HTML\n",
        "from IPython.display import display\n",
        "\n",
        "#Diambil dari link https://stackoverflow.com/questions/31517194/how-to-hide-one-specific-cell-input-or-output-in-ipython-notebook\n",
        "tag = HTML('''<script>\n",
        "code_show=true; \n",
        "function code_toggle() {\n",
        "    if (code_show){\n",
        "        $('div.cell.code_cell.rendered.selected div.input').hide();\n",
        "    } else {\n",
        "        $('div.cell.code_cell.rendered.selected div.input').show();\n",
        "    }\n",
        "    code_show = !code_show\n",
        "} \n",
        "$( document ).ready(code_toggle);\n",
        "</script>\n",
        "To show/hide this cell's raw code input, click <a href=\"javascript:code_toggle()\">here</a>.''')\n",
        "display(tag)\n",
        "\n",
        "\n",
        "\n",
        "from scipy.stats import skewnorm\n",
        "import matplotlib.pyplot as plt\n",
        "\n",
        "numValues = 10000\n",
        "maxValue = 100\n",
        "skewness = -5   #Nilai negatif merupakan left skewed, nilai positif adalah right skewed.\n",
        "\n",
        "random = skewnorm.rvs(a = skewness,loc=maxValue, size=numValues)  #fungsi Skewnorm\n",
        "\n",
        "random = random - min(random)      #Mengubah set random menjadi nilai minimum yang sama dengan 0.\n",
        "random = random / max(random)      #Melakukan standarisasi nilai antara 0 dan 1. \n",
        "random = random * maxValue         #Mengalikan nilai standarisasi dengan nilai maximum.\n",
        "\n",
        "#Plot histogram untuk mengecek skewness\n",
        "plt.hist(random,30,density=True, color = 'red', alpha=0.1)\n",
        "plt.show()"
      ]
    },
    {
      "cell_type": "code",
      "execution_count": null,
      "metadata": {
        "id": "ZSkcTQClDbCA",
        "colab": {
          "base_uri": "https://localhost:8080/"
        },
        "outputId": "237393ec-e339-429e-97d1-fc60aa89d1a3"
      },
      "outputs": [
        {
          "output_type": "stream",
          "name": "stdout",
          "text": [
            "Skewness -2.8663736585314984e-17\n"
          ]
        }
      ],
      "source": [
        "print(\"Skewness\",stats.skew(data2))"
      ]
    },
    {
      "cell_type": "markdown",
      "metadata": {
        "id": "80yeDQ2kDbCB"
      },
      "source": [
        "### Eigen Vector\n",
        "***\n",
        "\n",
        "Misalkan A adalah matriks nXn (Square Matrix/Matriks Persegi).\n",
        "\n",
        "1. Vektor eigen dari A adalah vektor bukan nol v pada Rn sedemikian sehingga Av=λv, untuk beberapa skalar λ .\n",
        "2. Nilai eigen dari A adalah skalar sehingga persamaan Av=λv memiliki solusi non-trivial.\n",
        "\n",
        "Jika Av=λv untuk v tidak sama dengan 0, kita katakan bahwa adalah nilai eigen untuk v, dan v adalah vektor aneigen untuk λ .\n",
        "\n",
        "Sebuah prefix Jerman yaitu \"eigen\" secara kasar diterjemahkan menjadi \"(self)diri\" atau \"(own)milik\". Vektor eigen dari A adalah vektor yang diambil ke kelipatannya dengan mentransformasi matriks T(x)=Ax, yang mungkin menjelaskan terminologi tersebut. Di sisi lain, \"eigen\" sering diterjemahkan sebagai \"karakteristik\"; kita mungkin menganggap vektor eigen sebagai menggambarkan sifat intrinsik, atau karakteristik, dari A.\n",
        "\n",
        "Catatan-Nilai eigen dan vektor eigen hanya untuk matriks persegi."
      ]
    },
    {
      "cell_type": "code",
      "execution_count": null,
      "metadata": {
        "id": "ttpxvQSkDbCB",
        "colab": {
          "base_uri": "https://localhost:8080/"
        },
        "outputId": "88747b33-6485-4220-8009-71220933cfbe"
      },
      "outputs": [
        {
          "output_type": "execute_result",
          "data": {
            "text/plain": [
              "matrix([[4, 2, 3],\n",
              "        [6, 7, 5],\n",
              "        [3, 6, 1]])"
            ]
          },
          "metadata": {},
          "execution_count": 15
        }
      ],
      "source": [
        "import numpy as np\n",
        "x = np.matrix([[4,2,3],[6,7,5],[3,6,1]])\n",
        "x\n"
      ]
    },
    {
      "cell_type": "code",
      "execution_count": null,
      "metadata": {
        "id": "yIR8FtelDbCB",
        "colab": {
          "base_uri": "https://localhost:8080/"
        },
        "outputId": "c1a9fff1-1c11-44fc-a22a-2452ab368b11"
      },
      "outputs": [
        {
          "output_type": "execute_result",
          "data": {
            "text/plain": [
              "array([[1., 0., 0.],\n",
              "       [0., 1., 0.],\n",
              "       [0., 0., 1.]])"
            ]
          },
          "metadata": {},
          "execution_count": 16
        }
      ],
      "source": [
        "e = np.eye(3)\n",
        "e"
      ]
    },
    {
      "cell_type": "code",
      "execution_count": null,
      "metadata": {
        "id": "yrSmtJK0DbCB",
        "colab": {
          "base_uri": "https://localhost:8080/"
        },
        "outputId": "c68f1a5a-768f-43c5-f6fc-6d0eb44a230f"
      },
      "outputs": [
        {
          "output_type": "execute_result",
          "data": {
            "text/plain": [
              "(array([12.76222365,  1.17374428, -1.93596793]),\n",
              " matrix([[-0.35090794, -0.78464131, -0.36647301],\n",
              "         [-0.79489403,  0.40589024, -0.25466269],\n",
              "         [-0.49498192,  0.4686055 ,  0.89489913]]))"
            ]
          },
          "metadata": {},
          "execution_count": 17
        }
      ],
      "source": [
        "#Membuat matriks baru yang merupakan transformasi linier dari x\n",
        "m = x + 45*e\n",
        "#Menghitung nilai eigen dan vector eigen dari array persegi\n",
        "np.linalg.eig(x) "
      ]
    },
    {
      "cell_type": "code",
      "execution_count": null,
      "metadata": {
        "id": "Q1Pf5SA6DbCB",
        "colab": {
          "base_uri": "https://localhost:8080/"
        },
        "outputId": "487e48f6-9cc5-484e-acc3-9638e9981645"
      },
      "outputs": [
        {
          "output_type": "execute_result",
          "data": {
            "text/plain": [
              "(array([57.76222365, 46.17374428, 43.06403207]),\n",
              " matrix([[-0.35090794, -0.78464131, -0.36647301],\n",
              "         [-0.79489403,  0.40589024, -0.25466269],\n",
              "         [-0.49498192,  0.4686055 ,  0.89489913]]))"
            ]
          },
          "metadata": {},
          "execution_count": 18
        }
      ],
      "source": [
        "np.linalg.eig(m)"
      ]
    },
    {
      "cell_type": "markdown",
      "source": [
        "<br><br>\n",
        "# **STATISTIK INFERENSIAL**\n",
        "## Objective\n",
        "***\n",
        "- **Hypothesis testing**\n",
        "    - Level of significance\n",
        "    - One Tail Test\n",
        "    - Two-tailed test\n",
        "    - p-value\n",
        "    \n",
        "\n",
        "- **Compute the test statistic**\n",
        "\n",
        "     - z-Test\n",
        "         - One sampled test\n",
        "         - Two sampled test\n",
        "     - t-Test\n",
        "         - One sampled test\n",
        "         - Two sampled test\n",
        "         - Paired test"
      ],
      "metadata": {
        "id": "zGclfO_wOQvV"
      }
    },
    {
      "cell_type": "markdown",
      "source": [
        "## **Hypothesis Testing**\n",
        "***\n",
        "Hypothesis Testing (Pengujian hipotesis) atau pengujian signifikansi adalah metode statistik untuk menguji suatu klaim atau hipotesis tentang suatu parameter dalam suatu populasi, dengan menggunakan data yang diukur dalam suatu sampel.\n",
        "Pengujian Hipotesis pada dasarnya adalah asumsi yang kita buat tentang parameter populasi. Misalnya, nilai rata-rata yang diperoleh siswa adalah 60.\n",
        "Langkah yang harus dilakukan dalam melakukan Hypothesis Testing adalah:\n",
        "\n",
        "**1.Menyatakan hipotesisnya terlebih dahulu**\n",
        "\n",
        "Terdapat dua parameter di sini: Hipotesis Null dan Hipotesis Alternatif.\n",
        "Hipotesis Null mengasumsikan bahwa tidak ada hubungan antara dua variabelnya, yaitu variabel yang satu tidak berpengaruh pada variabel lain. Hipotesis Null adalah asumsi dasar yang dibuat berdasarkan domain atau pengetahuan masalah.\n",
        "Hipotesis alternatif adalah hipotesis yang digunakan dalam pengujian hipotesis yang bertentangan dengan hipotesis nol.\n",
        "CATATAN: Jika hipotesis nol ditolak, maka hipotesis alternatif diterima. Jika hipotesis nol tidak ditolak, maka hipotesis alternatif tidak diterima.\n",
        "\n",
        "**2.    Menetapkan kriteria untuk sebuah keputusan**\n",
        "\n",
        "Untuk menetapkan kriteria keputusan, perlu menyatakan tingkat signifikansi untuk suatu pengujian.\n",
        "Confidence level adalah seberapa yakin kita terhadap pernyataan yang diberikan. Umumnya, tidak akan 100% (biasanya akan kurang dari 100%).\n",
        "\n",
        "   Tingkat signifikansi:\n",
        "        Mengacu pada tingkat signifikansi di mana kita menerima atau menolak hipotesis nol. Tingkat signifikansi dilambangkan dengan .\n",
        "        = tingkat kepercayaan 1\n",
        "\n",
        "   One Tail Test:\n",
        "\n",
        "       Pengujian hipotesis statistik, di mana daerah penolakan hanya pada satu sisi dari distribusi sampling, disebut uji satu sisi.\n",
        "        Contoh: Nilai rata-rata siswa <= 40\n",
        "\n",
        "   Two-tailed test:\n",
        "\n",
        "       Uji dua sisi adalah uji statistik di mana area kritis dari suatu distribusi adalah dua sisi dan menguji apakah sampel lebih besar atau lebih kecil dari kisaran nilai tertentu. Jika sampel yang diuji jatuh ke salah satu area kritis, hipotesis alternatif diterima, bukan hipotesis nol.\n",
        "       Contoh: Nilai rata-rata siswa! = 40 siswa\n",
        "   p-value:\n",
        "\n",
        "        sebuah p value digunakan dalam pengujian hipotesis untuk membantu dalam menentukan apakah hipotesis nol diterima atau tidak. Nilai p adalah bukti yang bisa digunakan untuk menyatakan hal ini. Semakin kecil nilai p, semakin kuat bukti bahwa hipotesis nol tidak diterima.\n",
        "\n",
        "**CATATAN: Jika nilai p kurang dari tingkat signifikansi yang dipilih maka hipotesis nol tidak diterima (ditolak) sehingga menyatakan bahwa sampel yang diberikan memiliki bukti yang mendukung hipotesis alternatif.**\n",
        "<br><br><br>\n",
        "**3.    Hitung statistik uji**\n",
        "\n",
        "Ini adalah Tes yang paling banyak digunakan untuk Pengujian Hipotesis.\n",
        "- Z Test\n",
        "- T Test\n",
        "- ANOVA Test\n",
        "- Chi-Square Test\n",
        "\n",
        "**4.    Membuat keputusan berdasarkan hasil tes.**"
      ],
      "metadata": {
        "id": "cmGKQw4lPCbE"
      }
    },
    {
      "cell_type": "markdown",
      "source": [
        "## **z-Test di hypothesis testing**\n",
        "***\n",
        "\n",
        "  Uji z adalah uji hipotesis dimana z-statistik mengikuti distribusi normal. Uji-z paling baik digunakan untuk sampel yang lebih besar dari 30 karena, berdasarkan teorema limit pusat, ketika jumlah sampel semakin besar, maka sampel tersebut sekiranya akam terdistribusi secara normal.\n",
        "    Uji Z dilakukan jika standar deviasi diketahui.\n",
        "\n",
        "**One Sample Z test:**\n",
        "    \n",
        "   Dalam satu sampel uji-z, kami memeriksa satu kelompok data dan memutuskan apakah rata-rata sampel sama dengan rata-rata populasi atau tidak.\n",
        "   Tekanan darah dapat diukur dengan lengan atau jari seseorang. Dataset yang digunakan di sini memiliki dua kolom yang merupakan pembacaan tekanan darah sistolik pasien yang menggunakan kedua metode tersebut. Dua kolom diberi nama: armys, finsys.\n",
        "   \n",
        "  Dalam uji-z satu sampel kami menggunakan kelompok tentara dan memutuskan apakah rata-rata sampel sama dengan rata-rata populasi atau tidak."
      ],
      "metadata": {
        "id": "FGYPtUOcPJU5"
      }
    },
    {
      "cell_type": "code",
      "source": [
        "import pandas as pd\n",
        "from scipy import stats\n",
        "\n",
        "url = \"https://raw.githubusercontent.com/bluedataconsulting/AIMasteryProgram/main/Lab_Exercises/Module2/systolic%20blood%20pressure.csv\"\n",
        "df = pd.read_csv(url)\n",
        "\n",
        "from statsmodels.stats import weightstats as stests\n",
        "\n",
        "ztest, pval = stests.ztest(df['armsys'], value=125) #value = mean dari 'armsys' di bawah hypothesis nol\n",
        "print(pval)\n",
        "\n",
        "if pval<0.05:                                # 0.05 adalah nilai signifikasnsi(α)\n",
        "    print(\"Mean bukan 125\")\n",
        "else:\n",
        "    print(\"Mean adalah 125\")\n",
        "\n",
        "import numpy as np"
      ],
      "metadata": {
        "id": "0lVqT1QqOzf4",
        "colab": {
          "base_uri": "https://localhost:8080/"
        },
        "outputId": "cb447160-d7a7-44c9-d929-7fa4a2365b98"
      },
      "execution_count": null,
      "outputs": [
        {
          "output_type": "stream",
          "name": "stdout",
          "text": [
            "0.032546442541153964\n",
            "Mean bukan 125\n"
          ]
        }
      ]
    },
    {
      "cell_type": "markdown",
      "source": [
        "**Kesimpulan: \n",
        "Oleh karena mean bukan 125, maka p value < 0.05 sehingga hipotesis alternatif diterima.**"
      ],
      "metadata": {
        "id": "z3ZX2mmjPfDv"
      }
    },
    {
      "cell_type": "markdown",
      "source": [
        "**Two Sample z-test**\n",
        "\n",
        "Dalam Two Sample z-test, kami memeriksa dua kelompok data independen dan memutuskan apakah rata-rata sampel dari dua kelompok sama atau tidak."
      ],
      "metadata": {
        "id": "wfcDJoqCPj1d"
      }
    },
    {
      "cell_type": "code",
      "source": [
        "import pandas as pd\n",
        "from scipy import stats\n",
        "\n",
        "url = \"https://raw.githubusercontent.com/bluedataconsulting/AIMasteryProgram/main/Lab_Exercises/Module2/systolic%20blood%20pressure.csv\"\n",
        "df = pd.read_csv(url)\n",
        "\n",
        "from statsmodels.stats import weightstats as stests\n",
        "\n",
        "ztest, pval = stests.ztest(x1=df['armsys'], x2=df['fingsys'], value=0,alternative='two-sided')\n",
        "print(pval)\n",
        "\n",
        "if pval<0.05:\n",
        "  print(\"Mean dari two samples bukan 0\")\n",
        "else:\n",
        "  print(\"Mean dari two samples adalah 0\")"
      ],
      "metadata": {
        "id": "KIQlD6N9PgDs",
        "colab": {
          "base_uri": "https://localhost:8080/"
        },
        "outputId": "5cd7b96c-dcba-4b82-d797-ba4a48dbd0b1"
      },
      "execution_count": null,
      "outputs": [
        {
          "output_type": "stream",
          "name": "stdout",
          "text": [
            "0.07954652069053099\n",
            "Mean dari two samples adalah 0\n"
          ]
        }
      ]
    },
    {
      "cell_type": "markdown",
      "source": [
        "**Kesimpulan: Oleh karena mean dari two samples adalah 0 maka pval>0.05, sehingga hypothesis null diterima.**"
      ],
      "metadata": {
        "id": "m758chiUPrDo"
      }
    },
    {
      "cell_type": "markdown",
      "source": [
        "## **t-Test in hypothesis testing**\n",
        "***\n",
        "\n",
        "Uji-t adalah jenis statistik inferensial yang digunakan untuk menentukan apakah ada perbedaan yang signifikan antara rata-rata dua kelompok yang mungkin terkait dalam fitur tertentu.\n",
        "Uji-t digunakan untuk membandingkan rata-rata dari dua kelompok yang diberikan. Sampel mengikuti distribusi Gaussian. Sebuah t-Test digunakan ketika parameter seperti standar deviasi dari populasi tidak diketahui."
      ],
      "metadata": {
        "id": "U3TK6fc-PvqD"
      }
    },
    {
      "cell_type": "markdown",
      "source": [
        "\n",
        " **One sample t-Test**\n",
        " \n",
        "Diberikan massa sampel n=20 adalah m = 8.8, 6.6, 9.5, 11.2, 10.2, 7.4, 8.0, 9.6, 9.9, 9.0, 7.6, 7.4, 10.4, 11.1, 8.5, 10.0, 11.6, 10.7, 10.3, dan 7,0 g. Kita perlu memeriksa apakah ada perbedaan antara massa rata-rata sampel ini dan massa rata-rata semua biji = 10,0 g."
      ],
      "metadata": {
        "id": "mdcqE6bEPvze"
      }
    },
    {
      "cell_type": "code",
      "source": [
        "#One Sample t test\n",
        "x = [8.8, 6.6, 9.5, 11.2, 10.2, 7.4, 8.0, 9.6, 9.9, 9.0,\n",
        "     7.6, 7.4, 10.4, 11.1, 8.5, 10.0, 11.6, 10.7, 10.3, 7.0]\n",
        "mu = 10\n",
        "t_critical = 2.093\n",
        "x_bar = np.array(x).mean()\n",
        "s = np.array(x).std(ddof=1) # kurangi 1 dari N untuk mendapatkan estimasi standar deviasi sampel yang tidak bias\n",
        "N = len(x)\n",
        "SE = s/np.sqrt(N)\n",
        "t = (x_bar - mu)/SE\n",
        "print(\"t-statistic: \",t)\n",
        "\n",
        "# Uji-t satu sampel juga dapat dilakukan dengan library scipy sebagai berikut:\n",
        "t, p = stats.ttest_1samp(x, mu)\n",
        "print(\"t = \", t, \", p = \", p)\n",
        "if p<0.05:\n",
        "    print(\"Reject null hypothesis\")\n",
        "else:\n",
        "    print(\"Accept null hypothesis\")"
      ],
      "metadata": {
        "id": "zjKGMZXfPnS4",
        "colab": {
          "base_uri": "https://localhost:8080/"
        },
        "outputId": "8673bf57-3c73-462a-d236-658cff9fb2f1"
      },
      "execution_count": null,
      "outputs": [
        {
          "output_type": "stream",
          "name": "stdout",
          "text": [
            "t-statistic:  -2.2491611580763977\n",
            "t =  -2.2491611580763973 , p =  0.03655562279112415\n",
            "Reject null hypothesis\n"
          ]
        }
      ]
    },
    {
      "cell_type": "markdown",
      "source": [
        "**Kesimpulan: Kami menolak hipotesis nol.**"
      ],
      "metadata": {
        "id": "qz87hu33P6hf"
      }
    },
    {
      "cell_type": "markdown",
      "source": [
        "### Two sample t-test\n",
        "***\n",
        " \n",
        "Hipotesis Null: Tidak ada perbedaan antara rata-rata dua sampel\n",
        "\n",
        "Hipotesis Alternatif: Ada perbedaan antara rata-rata dua sampel\n",
        "\n",
        "Misalkan kita ambil N1 = 20 sampel dan N2 = 30 sampel dari berat biji ek"
      ],
      "metadata": {
        "id": "HcXpqd_RP87s"
      }
    },
    {
      "cell_type": "code",
      "source": [
        "x1 = [10.8, 10.0, 8.2, 9.9, 11.6, 10.1, 11.3, 10.3, 10.7, 9.7, \n",
        "      7.8, 9.6, 9.7, 11.6, 10.3, 9.8, 12.3, 11.0, 10.4, 10.4]\n",
        "\n",
        "x2 = [7.8, 7.5, 9.5, 11.7, 8.1, 8.8, 8.8, 7.7, 9.7, 7.0, \n",
        "      9.0, 9.7, 11.3, 8.7, 8.8, 10.9, 10.3, 9.6, 8.4, 6.6,\n",
        "      7.2, 7.6, 11.5, 6.6, 8.6, 10.5, 8.4, 8.5, 10.2, 9.2]\n",
        "\n",
        "t_critical = 1.677    #diberikan\n",
        "\n",
        "X1 = len(x1)\n",
        "X2 = len(x2)\n",
        "\n",
        "t1 = X1-1\n",
        "t2 = X2-1\n",
        "\n",
        "df = t1+t2\n",
        "\n",
        "s1 = np.std(x1,ddof=1)\n",
        "s2 = np.std(x2,ddof=1)\n",
        "\n",
        "x1_bar = np.mean(x1)\n",
        "x2_bar = np.mean(x2)\n",
        "sp = np.sqrt((t1*s1**2 + t2*s2**2)/df)\n",
        "se = sp*np.sqrt(1/X1 + 1/X2)\n",
        "t = (x2_bar - x1_bar)/(se)\n",
        "print(\"t-statistic\", t)\n",
        "\n",
        "# NOTE: the p-value given is two-sided so the one-sided p value would be p/2\n",
        "t, p_twosided = stats.ttest_ind(x2, x1, equal_var=True)\n",
        "print(\"t = \",t, \", p_twosided = \", p_twosided, \", p_onesided =\", p_twosided/2)\n",
        "\n",
        "if p<0.05:\n",
        "    print(\"Reject null hypothesis\")\n",
        "else:\n",
        "    print(\"Accept null hypothesis\")"
      ],
      "metadata": {
        "id": "a0pp2C7hP7Dz",
        "colab": {
          "base_uri": "https://localhost:8080/"
        },
        "outputId": "9e83930f-5c7d-4434-a279-749fc2048870"
      },
      "execution_count": null,
      "outputs": [
        {
          "output_type": "stream",
          "name": "stdout",
          "text": [
            "t-statistic -3.5981947686898033\n",
            "t =  -3.5981947686898033 , p_twosided =  0.0007560337478801464 , p_onesided = 0.0003780168739400732\n",
            "Reject null hypothesis\n"
          ]
        }
      ]
    },
    {
      "cell_type": "markdown",
      "source": [
        "\n",
        "**Kesimpulan: Kami menolak hipotesis nol.**\n"
      ],
      "metadata": {
        "id": "GYpM63GyQCkR"
      }
    },
    {
      "cell_type": "markdown",
      "source": [
        "### Paired t-test\n",
        "***\n",
        "\n",
        "Uji-t sampel berpasangan juga disebut uji-t sampel dependen. Mari kita ambil contoh dari dataset tekanan darah. Kita perlu memeriksa alat sampel tekanan darah seseorang sebelum dan sesudah perawatan.\n",
        "\n",
        "Hipotesis nol: Perbedaan rata-rata antara kedua sampel adalah 0.\n",
        "\n",
        "Hipotesis alternatif: Perbedaan rata-rata antara dua sampel tidak 0.\n"
      ],
      "metadata": {
        "id": "e5hG0M-KQEBI"
      }
    },
    {
      "cell_type": "code",
      "source": [
        "import pandas as pd\n",
        "from scipy import stats\n",
        "\n",
        "x1 = [10.8, 10.0, 8.2, 9.9, 11.6, 10.1, 11.3, 10.3, 10.7, 9.7, \n",
        "      7.8, 9.6, 9.7, 11.6, 10.3, 9.8, 12.3, 11.0, 10.4, 10.4]\n",
        "\n",
        "x2 = [7.8, 7.5, 9.5, 11.7, 8.1, 8.8, 8.8, 7.7, 9.7, 7.0, \n",
        "      9.0, 9.7, 11.3, 8.7, 8.8, 10.9, 10.3, 9.6, 8.4, 6.6]\n",
        "\n",
        "ttest,pval = stats.ttest_rel(x1,x2)\n",
        "\n",
        "if pval<0.05:\n",
        "    print(\"reject null hypothesis\")\n",
        "else:\n",
        "    print(\"accept null hypothesis\")\n"
      ],
      "metadata": {
        "id": "7ZuI30ohQDKU",
        "colab": {
          "base_uri": "https://localhost:8080/"
        },
        "outputId": "f17f1c24-0dde-4b6d-a9f2-d20bf411b99d"
      },
      "execution_count": null,
      "outputs": [
        {
          "output_type": "stream",
          "name": "stdout",
          "text": [
            "reject null hypothesis\n"
          ]
        }
      ]
    },
    {
      "cell_type": "markdown",
      "source": [
        "**Kesimpulan: Di sini, kami menolak Hipotesis Null.**"
      ],
      "metadata": {
        "id": "zqOcoY-gQJ1C"
      }
    },
    {
      "cell_type": "markdown",
      "source": [
        "## **SEMANGAT DAN SUKSES SELALU !!! 😊💪**"
      ],
      "metadata": {
        "id": "w0uaK9ssQSXu"
      }
    }
  ],
  "metadata": {
    "kernelspec": {
      "display_name": "Python 3",
      "language": "python",
      "name": "python3"
    },
    "language_info": {
      "codemirror_mode": {
        "name": "ipython",
        "version": 3
      },
      "file_extension": ".py",
      "mimetype": "text/x-python",
      "name": "python",
      "nbconvert_exporter": "python",
      "pygments_lexer": "ipython3",
      "version": "3.8.8"
    },
    "colab": {
      "provenance": [],
      "collapsed_sections": [],
      "include_colab_link": true
    }
  },
  "nbformat": 4,
  "nbformat_minor": 0
}